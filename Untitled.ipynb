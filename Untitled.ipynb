{
 "cells": [
  {
   "cell_type": "code",
   "execution_count": 1,
   "metadata": {},
   "outputs": [],
   "source": [
    "import pandas as pd"
   ]
  },
  {
   "cell_type": "code",
   "execution_count": 3,
   "metadata": {},
   "outputs": [
    {
     "name": "stdout",
     "output_type": "stream",
     "text": [
      "b'\"value 1\",\"value 2\",\"value 3\"\\r\\n'\n"
     ]
    }
   ],
   "source": [
    "from io import BytesIO\n",
    "import csv\n",
    "import codecs\n",
    "\n",
    "data = ['value %d' % i for i in range(1,4)]\n",
    "\n",
    "StreamWriter = codecs.getwriter('utf-8')\n",
    "file_like = StreamWriter(BytesIO())\n",
    "\n",
    "wr = csv.writer(file_like, quoting=csv.QUOTE_ALL)\n",
    "wr.writerow(data)\n",
    "\n",
    "print(file_like.getvalue())\n",
    "# b'\"value 1\",\"value 2\",\"value 3\"\\r\\n'\n",
    "\n",
    "#response = StreamingResponse(file_like, media_type=\"text/csv\")\n"
   ]
  },
  {
   "cell_type": "code",
   "execution_count": null,
   "metadata": {},
   "outputs": [],
   "source": []
  }
 ],
 "metadata": {
  "kernelspec": {
   "display_name": "Python 3",
   "language": "python",
   "name": "python3"
  },
  "language_info": {
   "codemirror_mode": {
    "name": "ipython",
    "version": 3
   },
   "file_extension": ".py",
   "mimetype": "text/x-python",
   "name": "python",
   "nbconvert_exporter": "python",
   "pygments_lexer": "ipython3",
   "version": "3.7.3"
  }
 },
 "nbformat": 4,
 "nbformat_minor": 2
}
